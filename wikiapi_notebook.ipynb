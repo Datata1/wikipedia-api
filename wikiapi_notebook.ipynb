{
 "cells": [
  {
   "cell_type": "markdown",
   "metadata": {},
   "source": [
    "#### 0. Bibliotheken"
   ]
  },
  {
   "cell_type": "code",
   "execution_count": 2,
   "metadata": {},
   "outputs": [],
   "source": [
    "import requests\n",
    "import json"
   ]
  },
  {
   "cell_type": "markdown",
   "metadata": {},
   "source": [
    "#### 1. Erstellungsdatum des Artikels abrufen"
   ]
  },
  {
   "cell_type": "code",
   "execution_count": 3,
   "metadata": {},
   "outputs": [
    {
     "data": {
      "text/plain": [
       "{'continue': {'rvcontinue': '20050317090155|4897606', 'continue': '||'},\n",
       " 'query': {'pages': {'603448': {'pageid': 603448,\n",
       "    'ns': 0,\n",
       "    'title': 'Hochschule Karlsruhe',\n",
       "    'revisions': [{'timestamp': '2005-03-17T08:58:28Z'}]}}}}"
      ]
     },
     "execution_count": 3,
     "metadata": {},
     "output_type": "execute_result"
    }
   ],
   "source": [
    "# base url der Wikipedia API\n",
    "url = \"https://de.wikipedia.org/w/api.php\"\n",
    "\n",
    "# Abrufen von Informationen über die Erstellung der Seite\n",
    "creation_params = {\n",
    "    \"action\": \"query\", # Art der Aktion => in dem Fall Abfrage\n",
    "    \"format\": \"json\", # Format der Antwort => in dem Fall JSON\n",
    "    \"titles\": \"Hochschule Karlsruhe\", # Titel der Seite\n",
    "    \"prop\": \"revisions\", # Eigenschaft: Überarbeitungen\n",
    "    \"rvprop\": \"timestamp\", # Eigenschaft der Überarbeitung: Zeitstempel\n",
    "    \"rvlimit\": 1 , # Anzahl der Überarbeitungen\n",
    "    \"rvdir\": \"newer\",  # Abrufen der ältesten Überarbeitung (older wäre die neueste)\n",
    "}\n",
    "\n",
    "# Anfrage an die Wikipedia API\n",
    "creation_response = requests.get(url, params=creation_params)\n",
    "# Ausgabe der Antwort\n",
    "creation_data = creation_response.json()\n",
    "creation_data"
   ]
  },
  {
   "cell_type": "code",
   "execution_count": 3,
   "metadata": {},
   "outputs": [
    {
     "data": {
      "text/plain": [
       "'2005-03-17T08:58:28Z'"
      ]
     },
     "execution_count": 3,
     "metadata": {},
     "output_type": "execute_result"
    }
   ],
   "source": [
    "# Extrahieren des Erstellungsdatums\n",
    "pages = creation_data.get(\"query\").get(\"pages\")\n",
    "first_page = next(iter(pages.values()))\n",
    "creation_date = first_page.get('revisions')[0].get('timestamp')\n",
    "creation_date"
   ]
  },
  {
   "cell_type": "markdown",
   "metadata": {},
   "source": [
    "#### 2. Datum der letzten Änderung"
   ]
  },
  {
   "cell_type": "code",
   "execution_count": 4,
   "metadata": {},
   "outputs": [
    {
     "data": {
      "text/plain": [
       "{'continue': {'rvcontinue': '20240927183211|248950928', 'continue': '||'},\n",
       " 'query': {'pages': {'603448': {'pageid': 603448,\n",
       "    'ns': 0,\n",
       "    'title': 'Hochschule Karlsruhe',\n",
       "    'revisions': [{'timestamp': '2024-09-28T14:25:33Z'}]}}}}"
      ]
     },
     "execution_count": 4,
     "metadata": {},
     "output_type": "execute_result"
    }
   ],
   "source": [
    "url = \"https://de.wikipedia.org/w/api.php\"\n",
    "\n",
    "\n",
    "creation_params = {\n",
    "    \"action\": \"query\", \n",
    "    \"format\": \"json\", \n",
    "    \"titles\": \"Hochschule Karlsruhe\", \n",
    "    \"prop\": \"revisions\",\n",
    "    \"rvprop\": \"timestamp\",\n",
    "    \"rvlimit\": 1, \n",
    "    \"rvdir\": \"older\",  # Abrufen der neuesten Überarbeitung\n",
    "}\n",
    "\n",
    "creation_response = requests.get(url, params=creation_params)\n",
    "creation_data = creation_response.json()\n",
    "creation_data"
   ]
  },
  {
   "cell_type": "code",
   "execution_count": 70,
   "metadata": {},
   "outputs": [
    {
     "data": {
      "text/plain": [
       "'2024-09-28T14:25:33Z'"
      ]
     },
     "execution_count": 70,
     "metadata": {},
     "output_type": "execute_result"
    }
   ],
   "source": [
    "pages = creation_data.get(\"query\").get(\"pages\")\n",
    "first_page = next(iter(pages.values()))\n",
    "last_revision = first_page.get('revisions')[0].get('timestamp')\n",
    "last_revision\n"
   ]
  },
  {
   "cell_type": "markdown",
   "metadata": {},
   "source": [
    "#### 3. Anzahl der Bearbeitungen"
   ]
  },
  {
   "cell_type": "code",
   "execution_count": 5,
   "metadata": {},
   "outputs": [
    {
     "data": {
      "text/plain": [
       "{'batchcomplete': '',\n",
       " 'query': {'pages': {'9698': {'pageid': 9698,\n",
       "    'ns': 0,\n",
       "    'title': 'Python',\n",
       "    'revisions': [{'timestamp': '2024-07-08T15:33:54Z'},\n",
       "     {'timestamp': '2024-06-06T02:29:14Z'},\n",
       "     {'timestamp': '2024-05-13T19:19:32Z'},\n",
       "     {'timestamp': '2024-05-13T19:18:16Z'},\n",
       "     {'timestamp': '2024-04-06T08:06:51Z'},\n",
       "     {'timestamp': '2024-02-25T23:42:48Z'},\n",
       "     {'timestamp': '2024-02-25T23:42:15Z'},\n",
       "     {'timestamp': '2024-02-25T23:36:45Z'},\n",
       "     {'timestamp': '2024-02-25T23:34:55Z'},\n",
       "     {'timestamp': '2024-02-25T23:34:23Z'},\n",
       "     {'timestamp': '2024-02-25T23:33:54Z'},\n",
       "     {'timestamp': '2023-11-08T22:46:50Z'},\n",
       "     {'timestamp': '2022-01-06T11:35:34Z'},\n",
       "     {'timestamp': '2022-01-06T11:35:20Z'},\n",
       "     {'timestamp': '2022-01-06T11:34:24Z'},\n",
       "     {'timestamp': '2022-01-06T11:34:07Z'},\n",
       "     {'timestamp': '2020-09-25T09:53:24Z'},\n",
       "     {'timestamp': '2020-03-05T16:46:15Z'},\n",
       "     {'timestamp': '2020-02-07T08:09:26Z'},\n",
       "     {'timestamp': '2020-02-07T08:09:13Z'},\n",
       "     {'timestamp': '2020-02-07T08:05:28Z'},\n",
       "     {'timestamp': '2020-02-07T08:05:06Z'},\n",
       "     {'timestamp': '2019-12-14T15:28:11Z'},\n",
       "     {'timestamp': '2019-12-06T11:58:30Z'},\n",
       "     {'timestamp': '2019-12-06T11:47:39Z'},\n",
       "     {'timestamp': '2019-07-09T02:38:46Z'},\n",
       "     {'timestamp': '2019-05-22T07:44:42Z'},\n",
       "     {'timestamp': '2019-05-22T07:18:53Z'},\n",
       "     {'timestamp': '2019-05-22T07:18:25Z'},\n",
       "     {'timestamp': '2019-04-14T00:13:42Z'},\n",
       "     {'timestamp': '2019-04-13T23:52:47Z'},\n",
       "     {'timestamp': '2018-04-27T14:15:04Z'},\n",
       "     {'timestamp': '2017-12-06T10:50:33Z'},\n",
       "     {'timestamp': '2017-12-06T10:50:23Z'},\n",
       "     {'timestamp': '2017-12-06T10:49:53Z'},\n",
       "     {'timestamp': '2017-12-06T10:49:18Z'},\n",
       "     {'timestamp': '2017-05-29T08:23:28Z'},\n",
       "     {'timestamp': '2017-05-29T08:23:24Z'},\n",
       "     {'timestamp': '2017-01-29T10:47:33Z'},\n",
       "     {'timestamp': '2017-01-29T10:47:16Z'},\n",
       "     {'timestamp': '2016-04-20T13:48:37Z'},\n",
       "     {'timestamp': '2016-04-20T13:48:26Z'},\n",
       "     {'timestamp': '2016-04-20T13:48:11Z'},\n",
       "     {'timestamp': '2016-04-20T13:47:53Z'},\n",
       "     {'timestamp': '2016-01-01T08:43:15Z'},\n",
       "     {'timestamp': '2015-10-11T10:25:05Z'},\n",
       "     {'timestamp': '2015-07-24T04:17:59Z'},\n",
       "     {'timestamp': '2014-10-08T16:00:42Z'},\n",
       "     {'timestamp': '2014-03-13T13:11:19Z'},\n",
       "     {'timestamp': '2013-11-15T17:01:25Z'},\n",
       "     {'timestamp': '2013-11-15T17:00:56Z'},\n",
       "     {'timestamp': '2013-10-17T16:42:45Z'},\n",
       "     {'timestamp': '2013-06-06T20:44:37Z'},\n",
       "     {'timestamp': '2013-04-03T03:03:33Z'},\n",
       "     {'timestamp': '2013-02-18T12:14:21Z'},\n",
       "     {'timestamp': '2012-10-20T12:35:52Z'},\n",
       "     {'timestamp': '2012-10-20T09:17:30Z'},\n",
       "     {'timestamp': '2012-10-13T13:33:09Z'},\n",
       "     {'timestamp': '2012-09-05T03:20:05Z'},\n",
       "     {'timestamp': '2012-08-26T12:03:03Z'},\n",
       "     {'timestamp': '2012-07-09T07:43:45Z'},\n",
       "     {'timestamp': '2012-06-21T11:45:45Z'},\n",
       "     {'timestamp': '2012-06-11T06:23:54Z'},\n",
       "     {'timestamp': '2012-06-03T23:07:03Z'},\n",
       "     {'timestamp': '2012-06-03T17:44:15Z'},\n",
       "     {'timestamp': '2012-05-18T00:56:06Z'},\n",
       "     {'timestamp': '2012-05-07T23:11:08Z'},\n",
       "     {'timestamp': '2012-04-30T15:56:55Z'},\n",
       "     {'timestamp': '2012-03-24T20:27:42Z'},\n",
       "     {'timestamp': '2011-11-15T15:06:01Z'},\n",
       "     {'timestamp': '2011-10-14T00:07:43Z'},\n",
       "     {'timestamp': '2011-10-10T12:00:32Z'},\n",
       "     {'timestamp': '2011-10-06T09:27:08Z'},\n",
       "     {'timestamp': '2011-06-09T16:19:00Z'},\n",
       "     {'timestamp': '2011-06-09T13:30:50Z'},\n",
       "     {'timestamp': '2011-06-09T13:24:41Z'},\n",
       "     {'timestamp': '2011-06-09T13:24:28Z'},\n",
       "     {'timestamp': '2011-05-10T19:58:16Z'},\n",
       "     {'timestamp': '2010-10-08T19:33:39Z'},\n",
       "     {'timestamp': '2010-09-29T13:24:09Z'},\n",
       "     {'timestamp': '2010-07-31T09:45:27Z'},\n",
       "     {'timestamp': '2010-05-14T10:52:52Z'},\n",
       "     {'timestamp': '2010-05-11T18:35:36Z'},\n",
       "     {'timestamp': '2010-05-09T10:22:01Z'},\n",
       "     {'timestamp': '2010-05-01T11:31:22Z'},\n",
       "     {'timestamp': '2010-04-06T11:31:40Z'},\n",
       "     {'timestamp': '2010-04-06T10:02:55Z'},\n",
       "     {'timestamp': '2010-03-18T19:13:33Z'},\n",
       "     {'timestamp': '2010-02-23T09:21:14Z'},\n",
       "     {'timestamp': '2010-02-06T01:04:33Z'},\n",
       "     {'timestamp': '2010-02-04T04:41:07Z'},\n",
       "     {'timestamp': '2010-02-03T11:37:13Z'},\n",
       "     {'timestamp': '2009-10-24T22:20:53Z'},\n",
       "     {'timestamp': '2009-10-19T09:14:37Z'},\n",
       "     {'timestamp': '2009-10-14T12:25:53Z'},\n",
       "     {'timestamp': '2009-10-14T12:25:13Z'},\n",
       "     {'timestamp': '2009-02-10T16:46:11Z'},\n",
       "     {'timestamp': '2009-02-05T21:05:13Z'},\n",
       "     {'timestamp': '2008-12-13T08:14:23Z'},\n",
       "     {'timestamp': '2008-12-11T03:23:40Z'},\n",
       "     {'timestamp': '2008-09-27T09:43:19Z'},\n",
       "     {'timestamp': '2008-09-23T11:16:22Z'},\n",
       "     {'timestamp': '2008-08-10T16:37:12Z'},\n",
       "     {'timestamp': '2008-07-05T14:24:16Z'},\n",
       "     {'timestamp': '2008-07-01T15:04:03Z'},\n",
       "     {'timestamp': '2008-05-30T12:18:38Z'},\n",
       "     {'timestamp': '2008-05-16T19:49:30Z'},\n",
       "     {'timestamp': '2008-05-16T18:36:57Z'},\n",
       "     {'timestamp': '2008-03-29T05:58:47Z'},\n",
       "     {'timestamp': '2008-03-22T23:57:37Z'},\n",
       "     {'timestamp': '2007-12-15T15:52:34Z'},\n",
       "     {'timestamp': '2007-09-17T21:09:37Z'},\n",
       "     {'timestamp': '2007-09-06T11:32:23Z'},\n",
       "     {'timestamp': '2007-09-06T11:32:11Z'},\n",
       "     {'timestamp': '2007-06-24T16:20:14Z'},\n",
       "     {'timestamp': '2007-06-23T12:08:50Z'},\n",
       "     {'timestamp': '2007-05-23T14:10:40Z'},\n",
       "     {'timestamp': '2007-05-23T12:06:53Z'},\n",
       "     {'timestamp': '2007-04-18T10:12:08Z'},\n",
       "     {'timestamp': '2007-04-18T10:12:02Z'},\n",
       "     {'timestamp': '2007-04-18T10:11:50Z'},\n",
       "     {'timestamp': '2007-04-18T10:11:41Z'},\n",
       "     {'timestamp': '2007-04-03T19:01:00Z'},\n",
       "     {'timestamp': '2007-03-31T19:07:14Z'},\n",
       "     {'timestamp': '2007-03-21T06:54:21Z'},\n",
       "     {'timestamp': '2007-02-02T08:11:22Z'},\n",
       "     {'timestamp': '2007-02-02T08:10:53Z'},\n",
       "     {'timestamp': '2007-01-30T03:46:04Z'},\n",
       "     {'timestamp': '2007-01-02T15:39:59Z'},\n",
       "     {'timestamp': '2006-08-03T21:03:44Z'},\n",
       "     {'timestamp': '2006-07-06T16:54:47Z'},\n",
       "     {'timestamp': '2006-06-14T14:02:56Z'},\n",
       "     {'timestamp': '2006-05-31T07:43:47Z'},\n",
       "     {'timestamp': '2006-05-27T21:35:19Z'},\n",
       "     {'timestamp': '2006-05-27T15:52:55Z'},\n",
       "     {'timestamp': '2006-04-11T07:11:01Z'},\n",
       "     {'timestamp': '2006-04-05T04:34:44Z'},\n",
       "     {'timestamp': '2006-02-06T14:39:17Z'},\n",
       "     {'timestamp': '2006-02-04T20:06:48Z'},\n",
       "     {'timestamp': '2005-12-31T12:34:18Z'},\n",
       "     {'timestamp': '2005-11-28T18:18:53Z'},\n",
       "     {'timestamp': '2005-11-22T17:03:14Z'},\n",
       "     {'timestamp': '2005-11-03T09:47:47Z'},\n",
       "     {'timestamp': '2005-04-10T06:56:14Z'},\n",
       "     {'timestamp': '2005-03-15T22:57:43Z'},\n",
       "     {'timestamp': '2004-11-30T14:06:13Z'},\n",
       "     {'timestamp': '2004-11-30T04:38:33Z'},\n",
       "     {'timestamp': '2004-08-05T22:07:14Z'},\n",
       "     {'timestamp': '2004-07-12T09:35:25Z'},\n",
       "     {'timestamp': '2004-06-03T20:17:10Z'},\n",
       "     {'timestamp': '2004-05-15T13:19:52Z'},\n",
       "     {'timestamp': '2004-04-14T17:09:09Z'},\n",
       "     {'timestamp': '2004-03-29T16:49:32Z'},\n",
       "     {'timestamp': '2004-03-04T02:00:00Z'},\n",
       "     {'timestamp': '2003-12-19T21:35:30Z'},\n",
       "     {'timestamp': '2003-11-13T18:51:16Z'},\n",
       "     {'timestamp': '2003-10-16T17:58:00Z'},\n",
       "     {'timestamp': '2003-08-19T10:43:40Z'},\n",
       "     {'timestamp': '2003-06-08T08:52:23Z'},\n",
       "     {'timestamp': '2003-01-13T23:05:00Z'},\n",
       "     {'timestamp': '2002-12-27T21:57:35Z'},\n",
       "     {'timestamp': '2002-12-13T06:05:46Z'},\n",
       "     {'timestamp': '2002-12-03T17:32:47Z'},\n",
       "     {'timestamp': '2002-11-28T16:26:55Z'},\n",
       "     {'timestamp': '2002-11-28T16:23:21Z'},\n",
       "     {'timestamp': '2002-11-28T16:21:24Z'},\n",
       "     {'timestamp': '2002-10-30T08:14:27Z'},\n",
       "     {'timestamp': '2002-09-24T21:22:48Z'},\n",
       "     {'timestamp': '2002-09-24T21:22:10Z'},\n",
       "     {'timestamp': '2002-09-24T20:35:19Z'},\n",
       "     {'timestamp': '2002-09-24T20:00:49Z'},\n",
       "     {'timestamp': '2002-09-24T20:00:00Z'},\n",
       "     {'timestamp': '2002-09-24T19:59:07Z'},\n",
       "     {'timestamp': '2002-09-24T19:57:24Z'}]}}}}"
      ]
     },
     "execution_count": 5,
     "metadata": {},
     "output_type": "execute_result"
    }
   ],
   "source": [
    "url = \"https://de.wikipedia.org/w/api.php\"\n",
    "\n",
    "creation_params = {\n",
    "    \"action\": \"query\", \n",
    "    \"format\": \"json\", \n",
    "    \"titles\": \"Python\", \n",
    "    \"prop\": \"revisions\", \n",
    "    \"rvprop\": \"timestamp\",\n",
    "    \"rvlimit\": 500, # Anzahl der Überarbeitungen (maxium ist 500)\n",
    "    \"rvdir\": \"older\",  \n",
    "}\n",
    "\n",
    "creation_response = requests.get(url, params=creation_params)\n",
    "creation_data = creation_response.json()\n",
    "creation_data"
   ]
  },
  {
   "cell_type": "code",
   "execution_count": 52,
   "metadata": {},
   "outputs": [
    {
     "data": {
      "text/plain": [
       "174"
      ]
     },
     "execution_count": 52,
     "metadata": {},
     "output_type": "execute_result"
    }
   ],
   "source": [
    "pages = creation_data.get(\"query\").get(\"pages\")\n",
    "first_page = next(iter(pages.values()))\n",
    "count_revisions = first_page.get('revisions', [])\n",
    "len(count_revisions)"
   ]
  },
  {
   "cell_type": "markdown",
   "metadata": {},
   "source": [
    "#### 4. Kategorien des Artikels"
   ]
  },
  {
   "cell_type": "markdown",
   "metadata": {},
   "source": [
    "#### 4.1 Kategorien in dem der Artikel vorkommt"
   ]
  },
  {
   "cell_type": "code",
   "execution_count": 6,
   "metadata": {},
   "outputs": [
    {
     "data": {
      "text/plain": [
       "{'batchcomplete': '',\n",
       " 'query': {'pages': {'603448': {'pageid': 603448,\n",
       "    'ns': 0,\n",
       "    'title': 'Hochschule Karlsruhe',\n",
       "    'categories': [{'ns': 14,\n",
       "      'title': 'Kategorie:Fachhochschule in Deutschland'},\n",
       "     {'ns': 14, 'title': 'Kategorie:Gegründet 1878'},\n",
       "     {'ns': 14, 'title': 'Kategorie:Hochschule in Karlsruhe'},\n",
       "     {'ns': 14, 'title': 'Kategorie:Innenstadt-West (Karlsruhe)'},\n",
       "     {'ns': 14, 'title': 'Kategorie:Technische Hochschule in Deutschland'},\n",
       "     {'ns': 14, 'title': 'Kategorie:Wirtschaftshochschule in Deutschland'}]}}}}"
      ]
     },
     "execution_count": 6,
     "metadata": {},
     "output_type": "execute_result"
    }
   ],
   "source": [
    "url = \"https://de.wikipedia.org/w/api.php\"\n",
    "\n",
    "\n",
    "categories_params = {\n",
    "    \"action\": \"query\", \n",
    "    \"format\": \"json\",\n",
    "    \"titles\": \"Hochschule Karlsruhe\", \n",
    "    \"prop\": \"categories\", # Eigenschaft: Kategorien\n",
    "}\n",
    "\n",
    "categories_response = requests.get(url, params=categories_params)\n",
    "categories_data = categories_response.json()\n",
    "categories_data"
   ]
  },
  {
   "cell_type": "code",
   "execution_count": 28,
   "metadata": {},
   "outputs": [
    {
     "data": {
      "text/plain": [
       "['Fachhochschule in Deutschland',\n",
       " 'Gegründet 1878',\n",
       " 'Hochschule in Karlsruhe',\n",
       " 'Innenstadt-West (Karlsruhe)',\n",
       " 'Technische Hochschule in Deutschland',\n",
       " 'Wirtschaftshochschule in Deutschland']"
      ]
     },
     "execution_count": 28,
     "metadata": {},
     "output_type": "execute_result"
    }
   ],
   "source": [
    "pages = categories_data.get(\"query\").get(\"pages\")\n",
    "first_page = next(iter(pages.values()))\n",
    "categories = first_page.get('categories')\n",
    "name_categories = []\n",
    "for item in categories:\n",
    "    category = item.get('title')\n",
    "    category = category.split(\":\")[1]\n",
    "    name_categories.append(category)\n",
    "name_categories"
   ]
  },
  {
   "cell_type": "markdown",
   "metadata": {},
   "source": [
    "#### 4.2 Kategorien in dem der Artikel aufgeteilt ist"
   ]
  },
  {
   "cell_type": "code",
   "execution_count": 7,
   "metadata": {},
   "outputs": [
    {
     "data": {
      "text/plain": [
       "{'parse': {'title': 'Hochschule Karlsruhe',\n",
       "  'pageid': 603448,\n",
       "  'sections': [{'toclevel': 1,\n",
       "    'level': '2',\n",
       "    'line': 'Das Studium',\n",
       "    'number': '1',\n",
       "    'index': '1',\n",
       "    'fromtitle': 'Hochschule_Karlsruhe',\n",
       "    'byteoffset': 3058,\n",
       "    'anchor': 'Das_Studium',\n",
       "    'linkAnchor': 'Das_Studium'},\n",
       "   {'toclevel': 1,\n",
       "    'level': '2',\n",
       "    'line': 'Fakultäten',\n",
       "    'number': '2',\n",
       "    'index': '2',\n",
       "    'fromtitle': 'Hochschule_Karlsruhe',\n",
       "    'byteoffset': 3855,\n",
       "    'anchor': 'Fakultäten',\n",
       "    'linkAnchor': 'Fakultäten'},\n",
       "   {'toclevel': 1,\n",
       "    'level': '2',\n",
       "    'line': 'Internationale Kontakte',\n",
       "    'number': '3',\n",
       "    'index': '3',\n",
       "    'fromtitle': 'Hochschule_Karlsruhe',\n",
       "    'byteoffset': 4126,\n",
       "    'anchor': 'Internationale_Kontakte',\n",
       "    'linkAnchor': 'Internationale_Kontakte'},\n",
       "   {'toclevel': 1,\n",
       "    'level': '2',\n",
       "    'line': 'Angewandte Forschung',\n",
       "    'number': '4',\n",
       "    'index': '4',\n",
       "    'fromtitle': 'Hochschule_Karlsruhe',\n",
       "    'byteoffset': 6242,\n",
       "    'anchor': 'Angewandte_Forschung',\n",
       "    'linkAnchor': 'Angewandte_Forschung'},\n",
       "   {'toclevel': 2,\n",
       "    'level': '3',\n",
       "    'line': 'Forschungsinstitute',\n",
       "    'number': '4.1',\n",
       "    'index': '5',\n",
       "    'fromtitle': 'Hochschule_Karlsruhe',\n",
       "    'byteoffset': 7202,\n",
       "    'anchor': 'Forschungsinstitute',\n",
       "    'linkAnchor': 'Forschungsinstitute'},\n",
       "   {'toclevel': 1,\n",
       "    'level': '2',\n",
       "    'line': 'Kooperationen',\n",
       "    'number': '5',\n",
       "    'index': '6',\n",
       "    'fromtitle': 'Hochschule_Karlsruhe',\n",
       "    'byteoffset': 8039,\n",
       "    'anchor': 'Kooperationen',\n",
       "    'linkAnchor': 'Kooperationen'},\n",
       "   {'toclevel': 1,\n",
       "    'level': '2',\n",
       "    'line': 'Geschichte',\n",
       "    'number': '6',\n",
       "    'index': '7',\n",
       "    'fromtitle': 'Hochschule_Karlsruhe',\n",
       "    'byteoffset': 8588,\n",
       "    'anchor': 'Geschichte',\n",
       "    'linkAnchor': 'Geschichte'},\n",
       "   {'toclevel': 1,\n",
       "    'level': '2',\n",
       "    'line': 'Persönlichkeiten',\n",
       "    'number': '7',\n",
       "    'index': '8',\n",
       "    'fromtitle': 'Hochschule_Karlsruhe',\n",
       "    'byteoffset': 9447,\n",
       "    'anchor': 'Persönlichkeiten',\n",
       "    'linkAnchor': 'Persönlichkeiten'},\n",
       "   {'toclevel': 2,\n",
       "    'level': '3',\n",
       "    'line': 'Dozenten',\n",
       "    'number': '7.1',\n",
       "    'index': '9',\n",
       "    'fromtitle': 'Hochschule_Karlsruhe',\n",
       "    'byteoffset': 9471,\n",
       "    'anchor': 'Dozenten',\n",
       "    'linkAnchor': 'Dozenten'},\n",
       "   {'toclevel': 2,\n",
       "    'level': '3',\n",
       "    'line': 'Absolventen',\n",
       "    'number': '7.2',\n",
       "    'index': '10',\n",
       "    'fromtitle': 'Hochschule_Karlsruhe',\n",
       "    'byteoffset': 11125,\n",
       "    'anchor': 'Absolventen',\n",
       "    'linkAnchor': 'Absolventen'},\n",
       "   {'toclevel': 2,\n",
       "    'level': '3',\n",
       "    'line': 'Sonstige',\n",
       "    'number': '7.3',\n",
       "    'index': '11',\n",
       "    'fromtitle': 'Hochschule_Karlsruhe',\n",
       "    'byteoffset': 12025,\n",
       "    'anchor': 'Sonstige',\n",
       "    'linkAnchor': 'Sonstige'},\n",
       "   {'toclevel': 1,\n",
       "    'level': '2',\n",
       "    'line': 'Weblinks',\n",
       "    'number': '8',\n",
       "    'index': '12',\n",
       "    'fromtitle': 'Hochschule_Karlsruhe',\n",
       "    'byteoffset': 12757,\n",
       "    'anchor': 'Weblinks',\n",
       "    'linkAnchor': 'Weblinks'},\n",
       "   {'toclevel': 1,\n",
       "    'level': '2',\n",
       "    'line': 'Einzelnachweise',\n",
       "    'number': '9',\n",
       "    'index': '13',\n",
       "    'fromtitle': 'Hochschule_Karlsruhe',\n",
       "    'byteoffset': 13142,\n",
       "    'anchor': 'Einzelnachweise',\n",
       "    'linkAnchor': 'Einzelnachweise'}],\n",
       "  'showtoc': ''}}"
      ]
     },
     "execution_count": 7,
     "metadata": {},
     "output_type": "execute_result"
    }
   ],
   "source": [
    "\n",
    "url = \"https://de.wikipedia.org/w/api.php\"\n",
    "\n",
    "\n",
    "creation_params = {\n",
    "    \"action\": \"parse\", \n",
    "    \"format\": \"json\", \n",
    "    \"page\": \"Hochschule Karlsruhe\", \n",
    "    \"prop\": \"sections\",\n",
    "}\n",
    "\n",
    "# Anfrage an die Wikipedia API\n",
    "creation_response = requests.get(url, params=creation_params)\n",
    "# Ausgabe der Antwort\n",
    "creation_data = creation_response.json()\n",
    "creation_data"
   ]
  },
  {
   "cell_type": "code",
   "execution_count": 8,
   "metadata": {},
   "outputs": [
    {
     "name": "stdout",
     "output_type": "stream",
     "text": [
      "Das Studium\n",
      "Fakultäten\n",
      "Internationale Kontakte\n",
      "Angewandte Forschung\n",
      "Forschungsinstitute\n",
      "Kooperationen\n",
      "Geschichte\n",
      "Persönlichkeiten\n",
      "Dozenten\n",
      "Absolventen\n",
      "Sonstige\n",
      "Weblinks\n",
      "Einzelnachweise\n"
     ]
    }
   ],
   "source": [
    "pages = creation_data.get(\"parse\")\n",
    "sections = pages.get('sections')\n",
    "for item in sections:\n",
    "    print(item.get('line'))\n"
   ]
  },
  {
   "cell_type": "code",
   "execution_count": null,
   "metadata": {},
   "outputs": [],
   "source": []
  }
 ],
 "metadata": {
  "kernelspec": {
   "display_name": "Python 3 (ipykernel)",
   "language": "python",
   "name": "python3"
  },
  "language_info": {
   "codemirror_mode": {
    "name": "ipython",
    "version": 3
   },
   "file_extension": ".py",
   "mimetype": "text/x-python",
   "name": "python",
   "nbconvert_exporter": "python",
   "pygments_lexer": "ipython3",
   "version": "3.11.4"
  }
 },
 "nbformat": 4,
 "nbformat_minor": 2
}
